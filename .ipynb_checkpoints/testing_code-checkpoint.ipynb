{
 "cells": [
  {
   "cell_type": "code",
   "execution_count": null,
   "id": "2a633bfa",
   "metadata": {},
   "outputs": [],
   "source": [
    "print(\"Hello word\")"
   ]
  },
  {
   "cell_type": "code",
   "execution_count": 1,
   "id": "7656196e",
   "metadata": {},
   "outputs": [
    {
     "name": "stdout",
     "output_type": "stream",
     "text": [
      "50\n"
     ]
    }
   ],
   "source": [
    "import random\n",
    "\n",
    "print(random.randint(1,100))"
   ]
  },
  {
   "cell_type": "code",
   "execution_count": 15,
   "id": "d4733175",
   "metadata": {},
   "outputs": [
    {
     "name": "stdout",
     "output_type": "stream",
     "text": [
      "<!DOCTYPE html>\n",
      "\n",
      "<html dir=\"ltr\" lang=\"en\">\n",
      "<head>\n",
      "<!--version 1.0-->\n",
      "\n",
      "\n",
      "\n",
      "\n",
      "\n",
      "</head>\n",
      "\n",
      "</html>\n",
      "\n"
     ]
    }
   ],
   "source": [
    "import requests\n",
    "from bs4 import BeautifulSoup\n",
    "# https://www.gmanetwork.com/news/news/regions/787459/solon-pleads-for-more-vaccines-as-cagayan-de-oro-covid-cases-rise/story/\n",
    "r = requests.get('https://www.sunstar.com.ph/article/1895336/Manila/Entertainment/Netflixs-Trese-trailer-featuring-Liza-Soberanos-voice-out')\n",
    "\n",
    "bs_obj = BeautifulSoup(r.content, 'html.parser')\n",
    "tags = [\"body\", \"script\", \"meta\"]\n",
    "for tag in tags:\n",
    "    for r_tag in bs_obj(tag):\n",
    "        r_tag.decompose()\n",
    "print(bs_obj)\n",
    "# prob_content = str\n",
    "# for p_tag in bs_obj.find_all(\"div\", {\"class\": \"article-content\"}):\n",
    "# p_tag =  bs_obj.find(\"div\", {\"class\": \"embed-wrap\"})\n",
    "# p_tag =  bs_obj.find(\"div\", {\"class\": \"clear\"})\n",
    "# print(p_tag)\n",
    "# content = p_tag.parent\n",
    "# print(\"\".join(list(map(lambda d:d.text, content.find_all(\"p\")))))\n"
   ]
  }
 ],
 "metadata": {
  "kernelspec": {
   "display_name": "Python 3 (ipykernel)",
   "language": "python",
   "name": "python3"
  },
  "language_info": {
   "codemirror_mode": {
    "name": "ipython",
    "version": 3
   },
   "file_extension": ".py",
   "mimetype": "text/x-python",
   "name": "python",
   "nbconvert_exporter": "python",
   "pygments_lexer": "ipython3",
   "version": "3.9.7"
  }
 },
 "nbformat": 4,
 "nbformat_minor": 5
}
