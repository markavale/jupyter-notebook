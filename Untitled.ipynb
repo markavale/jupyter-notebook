{
 "cells": [
  {
   "cell_type": "code",
   "execution_count": 17,
   "id": "52035b47",
   "metadata": {},
   "outputs": [],
   "source": [
    "import os, time, pandas as pd, math, concurrent.futures"
   ]
  },
  {
   "cell_type": "code",
   "execution_count": 5,
   "id": "ac0bb684",
   "metadata": {},
   "outputs": [],
   "source": [
    "def spider(data):\n",
    "    # INITIALIZATION\n",
    "    spiders = []\n",
    "    MAX_THREAD = 2\n",
    "    # CHUNK SPIDER\n",
    "    divisible_n = math.ceil(len(data) / MAX_THREAD)\n",
    "\n",
    "    spider_data = [data[i:i + divisible_n]\n",
    "                   for i in range(0, len(data), divisible_n)]\n",
    "    matrix =  list(map(lambda x: len(x), spider_data))\n",
    "    print(matrix)"
   ]
  },
  {
   "cell_type": "code",
   "execution_count": 22,
   "id": "91f241c2",
   "metadata": {},
   "outputs": [],
   "source": [
    "def main(system_data, WORKERS):\n",
    "    # Computation for divisible number for chunking URL(s)\n",
    "    divisible_n = math.ceil(len(system_data) / WORKERS)\n",
    "    data = [system_data[i:i + divisible_n]\n",
    "            for i in range(0, len(system_data), divisible_n)]  # Chunking data\n",
    "    # Instansiating MAX WORKERS based on the lower number between length of data and defined WORKERS\n",
    "    MAX_WORKERS = min(len(data), WORKERS)\n",
    "    \n",
    "    with concurrent.futures.ProcessPoolExecutor(max_workers=MAX_WORKERS) as executor:\n",
    "        future = [executor.submit(spider, obj) for obj in data]"
   ]
  },
  {
   "cell_type": "code",
   "execution_count": 23,
   "id": "2712a700",
   "metadata": {},
   "outputs": [
    {
     "name": "stdout",
     "output_type": "stream",
     "text": [
      "[4, 3]\n",
      "[4, 3]\n",
      "[4, 3]\n",
      "[4, 3]\n",
      "[4, 3][4, 3]\n",
      "\n",
      "[1][4, 3]\n",
      "\n"
     ]
    }
   ],
   "source": [
    "main(list(range(50)), os.cpu_count())"
   ]
  }
 ],
 "metadata": {
  "kernelspec": {
   "display_name": "Python 3 (ipykernel)",
   "language": "python",
   "name": "python3"
  },
  "language_info": {
   "codemirror_mode": {
    "name": "ipython",
    "version": 3
   },
   "file_extension": ".py",
   "mimetype": "text/x-python",
   "name": "python",
   "nbconvert_exporter": "python",
   "pygments_lexer": "ipython3",
   "version": "3.9.7"
  }
 },
 "nbformat": 4,
 "nbformat_minor": 5
}
