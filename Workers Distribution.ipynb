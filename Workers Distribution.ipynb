{
 "cells": [
  {
   "cell_type": "code",
   "execution_count": 10,
   "id": "cf73dd07",
   "metadata": {},
   "outputs": [],
   "source": [
    "import os, math, json, time, random, pandas as pd\n",
    "from pprint import pprint\n",
    "import concurrent.futures"
   ]
  },
  {
   "cell_type": "code",
   "execution_count": 9,
   "id": "17071344",
   "metadata": {},
   "outputs": [],
   "source": [
    "def machine(data):\n",
    "#     print(data, type(data))\n",
    "    # INITIALIZATION\n",
    "#     spiders = []\n",
    "#     MAX_THREAD = 2\n",
    "#     # CHUNK SPIDER\n",
    "#     step_n = math.ceil(len(data) / MAX_THREAD) # Return the ceiling of step_n, the smallest integer greater than or equal to step_n\n",
    "#     spider_data = [data[i:i + step_n]\n",
    "#                    for i in range(0, len(data), step_n)]\n",
    "#     # SPIDER CRAWLER\n",
    "# #     print(\"Total thread spider(s): {}\".format(len(spider_data)))\n",
    "#     # print(\"Divisible_n:\", divisible_n)\n",
    "#     for spider in spider_data:\n",
    "#         spiders.append(len(spider))\n",
    "    return [len(data)]"
   ]
  },
  {
   "cell_type": "code",
   "execution_count": 8,
   "id": "57b89cdc",
   "metadata": {},
   "outputs": [],
   "source": [
    "def spider(data):\n",
    "    # INITIALIZATION\n",
    "    spiders = []\n",
    "    MAX_THREAD = 2\n",
    "    # CHUNK SPIDER\n",
    "    step_n = math.ceil(len(data) / MAX_THREAD) # Return the ceiling of step_n, the smallest integer greater than or equal to step_n\n",
    "    spider_data = [data[i:i + step_n]\n",
    "                   for i in range(0, len(data), step_n)]\n",
    "    # SPIDER CRAWLER\n",
    "#     print(\"Total thread spider(s): {}\".format(len(spider_data)))\n",
    "    # print(\"Divisible_n:\", divisible_n)\n",
    "    for spider in spider_data:\n",
    "        spiders.append(len(spider))\n",
    "    return spiders"
   ]
  },
  {
   "cell_type": "code",
   "execution_count": 7,
   "id": "6d1240d6",
   "metadata": {},
   "outputs": [],
   "source": [
    "def main(system_data, WORKERS):\n",
    "    # Computation for divisible number for chunking URL(s)\n",
    "    divisible_n = math.ceil(len(system_data) / WORKERS)\n",
    "    data = [system_data[i:i + divisible_n]\n",
    "            for i in range(0, len(system_data), divisible_n)]  # Chunking URL(s)\n",
    "\n",
    "    # Instansiating MAX WORKERS based on the lower number between length of data and defined WORKERS\n",
    "    MAX_WORKERS = min(len(data), WORKERS)\n",
    "\n",
    "    # LOGGING ---------------------------\n",
    "    print(\"Total Data: {}\".format(len(system_data)))\n",
    "    print(\"Total Worker(s): {}\".format(MAX_WORKERS))\n",
    "    print(\"Chunked Data for multiprocessing: \",\n",
    "          list(map(lambda d: len(d), data)))\n",
    "    print(\"----\"*25)\n",
    "    # MULTI PROCESSING OF SPIDER FUNCTION\n",
    "    with concurrent.futures.ProcessPoolExecutor(max_workers=MAX_WORKERS) as executor:\n",
    "        future = [executor.submit(spider, obj) for obj in data]\n",
    "\n",
    "    # Getting the return value of multi spiders\n",
    "    spiders = [obj.result() for obj in future]\n",
    "    return len(system_data), MAX_WORKERS, spiders"
   ]
  },
  {
   "cell_type": "code",
   "execution_count": 6,
   "id": "7d437d2d",
   "metadata": {},
   "outputs": [],
   "source": [
    "def main_machine(system_data, WORKERS):\n",
    "    # Computation for divisible number for chunking data\n",
    "    divisible_n = math.ceil(len(system_data) / WORKERS)\n",
    "    data = [system_data[i:i + divisible_n]\n",
    "            for i in range(0, len(system_data), divisible_n)]  # Chunking Data\n",
    "\n",
    "    # Instansiating MAX WORKERS based on the lower number between length of data and defined WORKERS\n",
    "    MAX_MACHINE = min(len(data), WORKERS)\n",
    "\n",
    "    # LOGGING ---------------------------\n",
    "    print(\"Total Data: {}\".format(len(system_data)))\n",
    "    print(\"Total Available Machine(s): {}\".format(MAX_MACHINE))\n",
    "    print(\"Chunked Data for Distribution: \",\n",
    "          list(map(lambda d: len(d), data)))\n",
    "    print(\"----\"*25)\n",
    "    # MULTI PROCESSING OF SPIDER FUNCTION\n",
    "    with concurrent.futures.ProcessPoolExecutor(max_workers=MAX_MACHINE) as executor:\n",
    "        future = [executor.submit(machine, obj) for obj in data]\n",
    "\n",
    "    # Getting the return value of multi spiders\n",
    "    spiders = [obj.result() for obj in future]\n",
    "    return len(system_data), MAX_MACHINE, spiders"
   ]
  },
  {
   "cell_type": "code",
   "execution_count": 5,
   "id": "234bc6b3",
   "metadata": {},
   "outputs": [],
   "source": [
    "def get_headers(total_workers, column_name=\"Worker\"):\n",
    "    headers = []\n",
    "    for i in range(1, total_workers + 1):\n",
    "        headers.append(\"{} {}\".format(column_name, i))\n",
    "    return headers"
   ]
  },
  {
   "cell_type": "code",
   "execution_count": 4,
   "id": "d25abaf8",
   "metadata": {},
   "outputs": [],
   "source": [
    "def get_rows(spiders, row_name=\"Thread\"):\n",
    "    rows = []\n",
    "    for i in range(1, len(spiders[0]) + 1):\n",
    "        rows.append(\"{} {}\".format(row_name, i))\n",
    "    return rows"
   ]
  },
  {
   "cell_type": "code",
   "execution_count": 3,
   "id": "67321751",
   "metadata": {},
   "outputs": [],
   "source": [
    "def consumers_distribution_details(data=500, machine=5):\n",
    "    \n",
    "    DATA = list(range(data))\n",
    "    WORKERS = machine\n",
    "    total_data, total_workers, spiders = main_machine(DATA, WORKERS)\n",
    "    headers = get_headers(total_workers, column_name=\"Machine\")\n",
    "    fields = get_rows(spiders, row_name=\"Data\")\n",
    "    data_set = pd.DataFrame(spiders, index = headers, columns = fields)\n",
    "    print(data_set.T)"
   ]
  },
  {
   "cell_type": "code",
   "execution_count": 2,
   "id": "7e65f82d",
   "metadata": {},
   "outputs": [],
   "source": [
    "def machine_details(data=500, workers=14):\n",
    "    \n",
    "    DATA = list(range(data))\n",
    "    WORKERS = workers\n",
    "    total_data, total_workers, spiders = main(DATA, WORKERS)\n",
    "    headers = get_headers(total_workers)\n",
    "    fields = get_rows(spiders)\n",
    "    data_set = pd.DataFrame(spiders, index = headers, columns = fields)\n",
    "    print(data_set.T)"
   ]
  },
  {
   "cell_type": "code",
   "execution_count": 11,
   "id": "2817f7a7",
   "metadata": {},
   "outputs": [
    {
     "name": "stdout",
     "output_type": "stream",
     "text": [
      "Total Data: 5000\n",
      "Total Available Machine(s): 3\n",
      "Chunked Data for Distribution:  [1667, 1667, 1666]\n",
      "----------------------------------------------------------------------------------------------------\n",
      "        Machine 1  Machine 2  Machine 3\n",
      "Data 1       1667       1667       1666\n"
     ]
    }
   ],
   "source": [
    "consumers_distribution_details(data=5000, machine=3)"
   ]
  },
  {
   "cell_type": "code",
   "execution_count": 14,
   "id": "109b5b54",
   "metadata": {},
   "outputs": [
    {
     "name": "stdout",
     "output_type": "stream",
     "text": [
      "Total Data: 1667\n",
      "Total Worker(s): 14\n",
      "Chunked Data for multiprocessing:  [120, 120, 120, 120, 120, 120, 120, 120, 120, 120, 120, 120, 120, 107]\n",
      "----------------------------------------------------------------------------------------------------\n",
      "          Worker 1  Worker 2  Worker 3  Worker 4  Worker 5  Worker 6  \\\n",
      "Thread 1        60        60        60        60        60        60   \n",
      "Thread 2        60        60        60        60        60        60   \n",
      "\n",
      "          Worker 7  Worker 8  Worker 9  Worker 10  Worker 11  Worker 12  \\\n",
      "Thread 1        60        60        60         60         60         60   \n",
      "Thread 2        60        60        60         60         60         60   \n",
      "\n",
      "          Worker 13  Worker 14  \n",
      "Thread 1         60         54  \n",
      "Thread 2         60         53  \n"
     ]
    }
   ],
   "source": [
    "machine_details(data=1667, workers =14)"
   ]
  },
  {
   "cell_type": "code",
   "execution_count": null,
   "id": "26a572d0",
   "metadata": {},
   "outputs": [],
   "source": []
  }
 ],
 "metadata": {
  "kernelspec": {
   "display_name": "Python 3 (ipykernel)",
   "language": "python",
   "name": "python3"
  },
  "language_info": {
   "codemirror_mode": {
    "name": "ipython",
    "version": 3
   },
   "file_extension": ".py",
   "mimetype": "text/x-python",
   "name": "python",
   "nbconvert_exporter": "python",
   "pygments_lexer": "ipython3",
   "version": "3.9.7"
  }
 },
 "nbformat": 4,
 "nbformat_minor": 5
}
